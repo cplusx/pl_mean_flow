{
 "cells": [
  {
   "cell_type": "code",
   "execution_count": null,
   "metadata": {},
   "outputs": [],
   "source": [
    "from misc_utils.train_utils import (\n",
    "    unit_test_create_dataset,\n",
    "    unit_test_create_diffusion_model,\n",
    "    unit_test_diffusion_val_step,\n",
    "    unit_test_diffusion_training_step\n",
    ")\n",
    "config_file = 'configs/mean_flow_mnist.yaml'"
   ]
  },
  {
   "cell_type": "code",
   "execution_count": null,
   "metadata": {},
   "outputs": [],
   "source": [
    "res = unit_test_create_dataset(config_file)"
   ]
  },
  {
   "cell_type": "code",
   "execution_count": null,
   "metadata": {},
   "outputs": [],
   "source": [
    "res = unit_test_create_diffusion_model(config_file)"
   ]
  },
  {
   "cell_type": "code",
   "execution_count": null,
   "metadata": {},
   "outputs": [],
   "source": [
    "res = unit_test_diffusion_val_step(config_file)"
   ]
  },
  {
   "cell_type": "code",
   "execution_count": null,
   "metadata": {},
   "outputs": [],
   "source": [
    "res = unit_test_diffusion_training_step(config_file)"
   ]
  },
  {
   "cell_type": "code",
   "execution_count": null,
   "metadata": {},
   "outputs": [],
   "source": [
    "from dataloaders.mnist import MNISTDataset\n",
    "dataset = MNISTDataset(root='.', download=True, train=True)"
   ]
  },
  {
   "cell_type": "code",
   "execution_count": null,
   "metadata": {},
   "outputs": [],
   "source": [
    "import matplotlib.pyplot as plt\n",
    "plt.imshow(dataset[0]['image'])\n"
   ]
  },
  {
   "cell_type": "code",
   "execution_count": null,
   "metadata": {},
   "outputs": [],
   "source": [
    "from models.mean_flow_model import DualTimestepDiTTransformer2DModel\n",
    "\n",
    "model =DualTimestepDiTTransformer2DModel(\n",
    "    in_channels=1,\n",
    "    out_channels=1,\n",
    "    num_layers=6,\n",
    "    num_attention_heads=8,\n",
    "    attention_head_dim=16,\n",
    ")"
   ]
  },
  {
   "cell_type": "code",
   "execution_count": null,
   "metadata": {},
   "outputs": [],
   "source": [
    "from diffusers.models.attention import Attention\n",
    "from diffusers.models.attention_processor import AttnProcessor\n",
    "\n",
    "for name, m in model.named_modules():\n",
    "    if isinstance(m, Attention):\n",
    "        m.set_processor(AttnProcessor())\n",
    "        print(m.processor.__class__)"
   ]
  },
  {
   "cell_type": "code",
   "execution_count": null,
   "metadata": {},
   "outputs": [],
   "source": [
    "from pipelines.mean_flow_pipeline import MeanFlowPipeline\n",
    "pipe = MeanFlowPipeline(\n",
    "    denoiser=model\n",
    ")"
   ]
  },
  {
   "cell_type": "code",
   "execution_count": null,
   "metadata": {},
   "outputs": [],
   "source": [
    "sample = pipe(\n",
    "    height=28, width=28,\n",
    "    num_samples=4,\n",
    "    output_type='np'\n",
    ")"
   ]
  },
  {
   "cell_type": "code",
   "execution_count": null,
   "metadata": {},
   "outputs": [],
   "source": [
    "sample[0].shape"
   ]
  },
  {
   "cell_type": "code",
   "execution_count": null,
   "metadata": {},
   "outputs": [],
   "source": [
    "import torch\n",
    "x = torch.randn(1, 3, 32, 32)\n",
    "t = torch.tensor([0.5])\n",
    "r = torch.tensor([0.2])\n",
    "cls_label =  torch.tensor([1], dtype=torch.int64)\n",
    "o1 = model(x, t, r, class_labels=cls_label)\n",
    "o2 = model(x, t, r+0.1, class_labels=cls_label)\n",
    "o3 = model(x, t+0.1, r, class_labels=cls_label)"
   ]
  },
  {
   "cell_type": "code",
   "execution_count": null,
   "metadata": {},
   "outputs": [],
   "source": [
    "print((o1.sample - o2.sample).abs().sum())\n",
    "print((o1.sample - o3.sample).abs().sum())"
   ]
  },
  {
   "cell_type": "code",
   "execution_count": null,
   "metadata": {},
   "outputs": [],
   "source": [
    "import numpy as np\n",
    "import matplotlib.pyplot as plt\n",
    "from scipy.stats import lognorm\n",
    "\n",
    "mu = -2\n",
    "sigma = 2\n",
    "\n",
    "x = np.linspace(1e-5, 1, 1000)\n",
    "pdf = lognorm.pdf(x, s=sigma, scale=np.exp(mu))\n",
    "\n",
    "plt.plot(x, pdf)\n",
    "plt.title('Log-normal PDF (mu=-2, sigma=2)')\n",
    "plt.xlabel('x')\n",
    "plt.ylabel('Density')\n",
    "plt.grid(True)\n",
    "plt.show()\n"
   ]
  },
  {
   "cell_type": "code",
   "execution_count": null,
   "metadata": {},
   "outputs": [],
   "source": [
    "import torch\n",
    "x = torch.distributions.log_normal.LogNormal(loc=torch.tensor([-2.0]), scale=torch.tensor([2.0]))\n",
    "x.sample((100,))"
   ]
  }
 ],
 "metadata": {
  "kernelspec": {
   "display_name": "diffusers",
   "language": "python",
   "name": "python3"
  },
  "language_info": {
   "codemirror_mode": {
    "name": "ipython",
    "version": 3
   },
   "file_extension": ".py",
   "mimetype": "text/x-python",
   "name": "python",
   "nbconvert_exporter": "python",
   "pygments_lexer": "ipython3",
   "version": "3.10.15"
  }
 },
 "nbformat": 4,
 "nbformat_minor": 2
}
